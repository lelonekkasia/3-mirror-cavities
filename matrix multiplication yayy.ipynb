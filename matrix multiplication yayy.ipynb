{
 "cells": [
  {
   "cell_type": "code",
   "execution_count": 12,
   "metadata": {},
   "outputs": [],
   "source": [
    "from sympy import Symbol, symbols, Matrix, I, conjugate\n",
    "import sympy as sp\n",
    "import numpy as np"
   ]
  },
  {
   "cell_type": "code",
   "execution_count": 27,
   "metadata": {},
   "outputs": [],
   "source": [
    "r, r_minus = symbols(\"r r_minus\")\n"
   ]
  },
  {
   "cell_type": "code",
   "execution_count": 28,
   "metadata": {},
   "outputs": [],
   "source": [
    "A2 = 1/sp.sqrt(2) * Matrix([[1, 1], [-I, I]])\n",
    "A2_inv = A2.inv()\n",
    "T_fc = Matrix([[r, 0], [0, conjugate(r_minus)]])\n",
    "T = A2 * T_fc * A2_inv"
   ]
  },
  {
   "cell_type": "code",
   "execution_count": 29,
   "metadata": {},
   "outputs": [],
   "source": [
    "a1, a2, b1, b2 = symbols(\"a_1 a_2 b_1 b_2\")\n",
    "\n",
    "B = Matrix([[b1], [b2]])\n",
    "A = Matrix([[a1], [a2]])"
   ]
  },
  {
   "cell_type": "code",
   "execution_count": 32,
   "metadata": {},
   "outputs": [],
   "source": [
    "Q_out = 1/ sp.sqrt(2) * Matrix([[T * A + conjugate(T) * conjugate(A)], [I * (conjugate(T) * conjugate(A)- T * A)]])"
   ]
  },
  {
   "cell_type": "code",
   "execution_count": 33,
   "metadata": {},
   "outputs": [
    {
     "data": {
      "text/latex": [
       "$\\displaystyle \\left[\\begin{matrix}\\frac{\\sqrt{2} \\left(a_{1} \\left(\\frac{r}{2} + \\frac{\\overline{r_{minus}}}{2}\\right) + a_{2} \\left(\\frac{i r}{2} - \\frac{i \\overline{r_{minus}}}{2}\\right) + \\left(\\frac{r_{minus}}{2} + \\frac{\\overline{r}}{2}\\right) \\overline{a_{1}} + \\left(\\frac{i r_{minus}}{2} - \\frac{i \\overline{r}}{2}\\right) \\overline{a_{2}}\\right)}{2}\\\\\\frac{\\sqrt{2} \\left(a_{1} \\left(- \\frac{i r}{2} + \\frac{i \\overline{r_{minus}}}{2}\\right) + a_{2} \\left(\\frac{r}{2} + \\frac{\\overline{r_{minus}}}{2}\\right) + \\left(\\frac{r_{minus}}{2} + \\frac{\\overline{r}}{2}\\right) \\overline{a_{2}} + \\left(- \\frac{i r_{minus}}{2} + \\frac{i \\overline{r}}{2}\\right) \\overline{a_{1}}\\right)}{2}\\\\\\frac{\\sqrt{2} i \\left(- a_{1} \\left(\\frac{r}{2} + \\frac{\\overline{r_{minus}}}{2}\\right) - a_{2} \\left(\\frac{i r}{2} - \\frac{i \\overline{r_{minus}}}{2}\\right) + \\left(\\frac{r_{minus}}{2} + \\frac{\\overline{r}}{2}\\right) \\overline{a_{1}} + \\left(\\frac{i r_{minus}}{2} - \\frac{i \\overline{r}}{2}\\right) \\overline{a_{2}}\\right)}{2}\\\\\\frac{\\sqrt{2} i \\left(- a_{1} \\left(- \\frac{i r}{2} + \\frac{i \\overline{r_{minus}}}{2}\\right) - a_{2} \\left(\\frac{r}{2} + \\frac{\\overline{r_{minus}}}{2}\\right) + \\left(\\frac{r_{minus}}{2} + \\frac{\\overline{r}}{2}\\right) \\overline{a_{2}} + \\left(- \\frac{i r_{minus}}{2} + \\frac{i \\overline{r}}{2}\\right) \\overline{a_{1}}\\right)}{2}\\end{matrix}\\right]$"
      ],
      "text/plain": [
       "Matrix([\n",
       "[     sqrt(2)*(a_1*(r/2 + conjugate(r_minus)/2) + a_2*(I*r/2 - I*conjugate(r_minus)/2) + (r_minus/2 + conjugate(r)/2)*conjugate(a_1) + (I*r_minus/2 - I*conjugate(r)/2)*conjugate(a_2))/2],\n",
       "[   sqrt(2)*(a_1*(-I*r/2 + I*conjugate(r_minus)/2) + a_2*(r/2 + conjugate(r_minus)/2) + (r_minus/2 + conjugate(r)/2)*conjugate(a_2) + (-I*r_minus/2 + I*conjugate(r)/2)*conjugate(a_1))/2],\n",
       "[  sqrt(2)*I*(-a_1*(r/2 + conjugate(r_minus)/2) - a_2*(I*r/2 - I*conjugate(r_minus)/2) + (r_minus/2 + conjugate(r)/2)*conjugate(a_1) + (I*r_minus/2 - I*conjugate(r)/2)*conjugate(a_2))/2],\n",
       "[sqrt(2)*I*(-a_1*(-I*r/2 + I*conjugate(r_minus)/2) - a_2*(r/2 + conjugate(r_minus)/2) + (r_minus/2 + conjugate(r)/2)*conjugate(a_2) + (-I*r_minus/2 + I*conjugate(r)/2)*conjugate(a_1))/2]])"
      ]
     },
     "execution_count": 33,
     "metadata": {},
     "output_type": "execute_result"
    }
   ],
   "source": [
    "Q_out"
   ]
  },
  {
   "cell_type": "code",
   "execution_count": null,
   "metadata": {},
   "outputs": [],
   "source": []
  }
 ],
 "metadata": {
  "kernelspec": {
   "display_name": "py38",
   "language": "python",
   "name": "python3"
  },
  "language_info": {
   "codemirror_mode": {
    "name": "ipython",
    "version": 3
   },
   "file_extension": ".py",
   "mimetype": "text/x-python",
   "name": "python",
   "nbconvert_exporter": "python",
   "pygments_lexer": "ipython3",
   "version": "3.8.19"
  }
 },
 "nbformat": 4,
 "nbformat_minor": 2
}
